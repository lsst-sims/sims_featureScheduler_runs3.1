{
 "cells": [
  {
   "cell_type": "code",
   "execution_count": 1,
   "id": "edc040c5",
   "metadata": {},
   "outputs": [],
   "source": [
    "# We have 2 different cloud databases running around. Are they different?"
   ]
  },
  {
   "cell_type": "code",
   "execution_count": 2,
   "id": "12d1d238",
   "metadata": {},
   "outputs": [],
   "source": [
    "import numpy as np\n",
    "import sqlite3\n",
    "import pandas as pd\n",
    "import matplotlib.pylab as plt\n",
    "%matplotlib inline"
   ]
  },
  {
   "cell_type": "code",
   "execution_count": 3,
   "id": "c51b7037",
   "metadata": {},
   "outputs": [],
   "source": [
    "f1 = '../weather/clouds.db'\n",
    "con = sqlite3.connect(f1)\n",
    "clouds_df = pd.read_sql('select * from cloud;', con)\n",
    "con.close()"
   ]
  },
  {
   "cell_type": "code",
   "execution_count": 4,
   "id": "079fb9cd",
   "metadata": {},
   "outputs": [
    {
     "data": {
      "text/html": [
       "<div>\n",
       "<style scoped>\n",
       "    .dataframe tbody tr th:only-of-type {\n",
       "        vertical-align: middle;\n",
       "    }\n",
       "\n",
       "    .dataframe tbody tr th {\n",
       "        vertical-align: top;\n",
       "    }\n",
       "\n",
       "    .dataframe thead th {\n",
       "        text-align: right;\n",
       "    }\n",
       "</style>\n",
       "<table border=\"1\" class=\"dataframe\">\n",
       "  <thead>\n",
       "    <tr style=\"text-align: right;\">\n",
       "      <th></th>\n",
       "      <th>cloudId</th>\n",
       "      <th>c_date</th>\n",
       "      <th>cloud</th>\n",
       "      <th>source</th>\n",
       "    </tr>\n",
       "  </thead>\n",
       "  <tbody>\n",
       "    <tr>\n",
       "      <th>0</th>\n",
       "      <td>0</td>\n",
       "      <td>0</td>\n",
       "      <td>0.0</td>\n",
       "      <td>None</td>\n",
       "    </tr>\n",
       "    <tr>\n",
       "      <th>1</th>\n",
       "      <td>1</td>\n",
       "      <td>93418</td>\n",
       "      <td>0.0</td>\n",
       "      <td>ctio</td>\n",
       "    </tr>\n",
       "    <tr>\n",
       "      <th>2</th>\n",
       "      <td>2</td>\n",
       "      <td>100206</td>\n",
       "      <td>0.0</td>\n",
       "      <td>ctio</td>\n",
       "    </tr>\n",
       "    <tr>\n",
       "      <th>3</th>\n",
       "      <td>3</td>\n",
       "      <td>106994</td>\n",
       "      <td>0.0</td>\n",
       "      <td>ctio</td>\n",
       "    </tr>\n",
       "    <tr>\n",
       "      <th>4</th>\n",
       "      <td>4</td>\n",
       "      <td>113782</td>\n",
       "      <td>0.0</td>\n",
       "      <td>ctio</td>\n",
       "    </tr>\n",
       "    <tr>\n",
       "      <th>...</th>\n",
       "      <td>...</td>\n",
       "      <td>...</td>\n",
       "      <td>...</td>\n",
       "      <td>...</td>\n",
       "    </tr>\n",
       "    <tr>\n",
       "      <th>69648</th>\n",
       "      <td>69648</td>\n",
       "      <td>1504514144</td>\n",
       "      <td>0.0</td>\n",
       "      <td>blanco</td>\n",
       "    </tr>\n",
       "    <tr>\n",
       "      <th>69649</th>\n",
       "      <td>69649</td>\n",
       "      <td>1504572503</td>\n",
       "      <td>0.0</td>\n",
       "      <td>blanco</td>\n",
       "    </tr>\n",
       "    <tr>\n",
       "      <th>69650</th>\n",
       "      <td>69650</td>\n",
       "      <td>1504581831</td>\n",
       "      <td>0.0</td>\n",
       "      <td>blanco</td>\n",
       "    </tr>\n",
       "    <tr>\n",
       "      <th>69651</th>\n",
       "      <td>69651</td>\n",
       "      <td>1504591158</td>\n",
       "      <td>0.0</td>\n",
       "      <td>blanco</td>\n",
       "    </tr>\n",
       "    <tr>\n",
       "      <th>69652</th>\n",
       "      <td>69652</td>\n",
       "      <td>1504600486</td>\n",
       "      <td>0.0</td>\n",
       "      <td>blanco</td>\n",
       "    </tr>\n",
       "  </tbody>\n",
       "</table>\n",
       "<p>69653 rows × 4 columns</p>\n",
       "</div>"
      ],
      "text/plain": [
       "       cloudId      c_date  cloud  source\n",
       "0            0           0    0.0    None\n",
       "1            1       93418    0.0    ctio\n",
       "2            2      100206    0.0    ctio\n",
       "3            3      106994    0.0    ctio\n",
       "4            4      113782    0.0    ctio\n",
       "...        ...         ...    ...     ...\n",
       "69648    69648  1504514144    0.0  blanco\n",
       "69649    69649  1504572503    0.0  blanco\n",
       "69650    69650  1504581831    0.0  blanco\n",
       "69651    69651  1504591158    0.0  blanco\n",
       "69652    69652  1504600486    0.0  blanco\n",
       "\n",
       "[69653 rows x 4 columns]"
      ]
     },
     "execution_count": 4,
     "metadata": {},
     "output_type": "execute_result"
    }
   ],
   "source": [
    "clouds_df"
   ]
  },
  {
   "cell_type": "code",
   "execution_count": 5,
   "id": "aa8f5c75",
   "metadata": {},
   "outputs": [],
   "source": [
    "f1 = '/Users/yoachim/rubin_sim_data/site_models/cloud.db'\n",
    "con = sqlite3.connect(f1)\n",
    "cloud_df = pd.read_sql('select * from cloud;', con)\n",
    "con.close()"
   ]
  },
  {
   "cell_type": "code",
   "execution_count": 6,
   "id": "00b40c37",
   "metadata": {},
   "outputs": [
    {
     "data": {
      "text/html": [
       "<div>\n",
       "<style scoped>\n",
       "    .dataframe tbody tr th:only-of-type {\n",
       "        vertical-align: middle;\n",
       "    }\n",
       "\n",
       "    .dataframe tbody tr th {\n",
       "        vertical-align: top;\n",
       "    }\n",
       "\n",
       "    .dataframe thead th {\n",
       "        text-align: right;\n",
       "    }\n",
       "</style>\n",
       "<table border=\"1\" class=\"dataframe\">\n",
       "  <thead>\n",
       "    <tr style=\"text-align: right;\">\n",
       "      <th></th>\n",
       "      <th>cloudId</th>\n",
       "      <th>c_date</th>\n",
       "      <th>cloud</th>\n",
       "    </tr>\n",
       "  </thead>\n",
       "  <tbody>\n",
       "    <tr>\n",
       "      <th>0</th>\n",
       "      <td>0</td>\n",
       "      <td>0</td>\n",
       "      <td>0.0</td>\n",
       "    </tr>\n",
       "    <tr>\n",
       "      <th>1</th>\n",
       "      <td>1</td>\n",
       "      <td>9971</td>\n",
       "      <td>0.0</td>\n",
       "    </tr>\n",
       "    <tr>\n",
       "      <th>2</th>\n",
       "      <td>2</td>\n",
       "      <td>14759</td>\n",
       "      <td>0.0</td>\n",
       "    </tr>\n",
       "    <tr>\n",
       "      <th>3</th>\n",
       "      <td>3</td>\n",
       "      <td>19547</td>\n",
       "      <td>0.0</td>\n",
       "    </tr>\n",
       "    <tr>\n",
       "      <th>4</th>\n",
       "      <td>4</td>\n",
       "      <td>24335</td>\n",
       "      <td>0.0</td>\n",
       "    </tr>\n",
       "    <tr>\n",
       "      <th>...</th>\n",
       "      <td>...</td>\n",
       "      <td>...</td>\n",
       "      <td>...</td>\n",
       "    </tr>\n",
       "    <tr>\n",
       "      <th>29196</th>\n",
       "      <td>29196</td>\n",
       "      <td>630571434</td>\n",
       "      <td>0.0</td>\n",
       "    </tr>\n",
       "    <tr>\n",
       "      <th>29197</th>\n",
       "      <td>29197</td>\n",
       "      <td>630643555</td>\n",
       "      <td>0.0</td>\n",
       "    </tr>\n",
       "    <tr>\n",
       "      <th>29198</th>\n",
       "      <td>29198</td>\n",
       "      <td>630648330</td>\n",
       "      <td>0.0</td>\n",
       "    </tr>\n",
       "    <tr>\n",
       "      <th>29199</th>\n",
       "      <td>29199</td>\n",
       "      <td>630653104</td>\n",
       "      <td>0.0</td>\n",
       "    </tr>\n",
       "    <tr>\n",
       "      <th>29200</th>\n",
       "      <td>29200</td>\n",
       "      <td>630657879</td>\n",
       "      <td>0.0</td>\n",
       "    </tr>\n",
       "  </tbody>\n",
       "</table>\n",
       "<p>29201 rows × 3 columns</p>\n",
       "</div>"
      ],
      "text/plain": [
       "       cloudId     c_date  cloud\n",
       "0            0          0    0.0\n",
       "1            1       9971    0.0\n",
       "2            2      14759    0.0\n",
       "3            3      19547    0.0\n",
       "4            4      24335    0.0\n",
       "...        ...        ...    ...\n",
       "29196    29196  630571434    0.0\n",
       "29197    29197  630643555    0.0\n",
       "29198    29198  630648330    0.0\n",
       "29199    29199  630653104    0.0\n",
       "29200    29200  630657879    0.0\n",
       "\n",
       "[29201 rows x 3 columns]"
      ]
     },
     "execution_count": 6,
     "metadata": {},
     "output_type": "execute_result"
    }
   ],
   "source": [
    "cloud_df"
   ]
  },
  {
   "cell_type": "code",
   "execution_count": 7,
   "id": "f64221cb",
   "metadata": {},
   "outputs": [
    {
     "data": {
      "image/png": "[encoded data removed]",
      "text/plain": [
       "<Figure size 640x480 with 1 Axes>"
      ]
     },
     "metadata": {},
     "output_type": "display_data"
    }
   ],
   "source": [
    "bins = np.arange(0, 1.1, 0.1) - 0.05\n",
    "\n",
    "_ack = plt.hist(cloud_df['cloud'], bins=bins)"
   ]
  },
  {
   "cell_type": "code",
   "execution_count": 8,
   "id": "c5fd8c88",
   "metadata": {},
   "outputs": [
    {
     "data": {
      "image/png": "[encoded data removed]",
      "text/plain": [
       "<Figure size 640x480 with 1 Axes>"
      ]
     },
     "metadata": {},
     "output_type": "display_data"
    }
   ],
   "source": [
    "_ack = plt.hist(clouds_df['cloud'], bins=bins)"
   ]
  },
  {
   "cell_type": "code",
   "execution_count": null,
   "id": "b3c32d24",
   "metadata": {},
   "outputs": [],
   "source": []
  }
 ],
 "metadata": {
  "kernelspec": {
   "display_name": "Python 3 (ipykernel)",
   "language": "python",
   "name": "python3"
  },
  "language_info": {
   "codemirror_mode": {
    "name": "ipython",
    "version": 3
   },
   "file_extension": ".py",
   "mimetype": "text/x-python",
   "name": "python",
   "nbconvert_exporter": "python",
   "pygments_lexer": "ipython3",
   "version": "3.11.0"
  }
 },
 "nbformat": 4,
 "nbformat_minor": 5
}
