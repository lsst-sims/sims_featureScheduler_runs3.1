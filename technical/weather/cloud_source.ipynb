{
 "cells": [
  {
   "cell_type": "code",
   "execution_count": 1,
   "id": "290e9005",
   "metadata": {},
   "outputs": [],
   "source": [
    "import numpy as np\n",
    "import matplotlib.pylab as plt\n",
    "%matplotlib inline\n",
    "from rubin_sim.site_models import (\n",
    "    ScheduledDowntimeData,\n",
    "    UnscheduledDowntimeData,\n",
    "    SeeingData,\n",
    "    SeeingModel,\n",
    "    CloudData,\n",
    "    Almanac,\n",
    ")\n",
    "from astropy.time import Time\n",
    "from rubin_sim.utils import (\n",
    "    _ra_dec2_hpid,\n",
    "    Site,\n",
    "    calc_lmst_last,\n",
    "    m5_flat_sed,\n",
    "    _approx_ra_dec2_alt_az,\n",
    "    _angular_separation,\n",
    "    _approx_altaz2pa,\n",
    "    survey_start_mjd,\n",
    ")\n",
    "from astropy import units as u\n",
    "\n",
    "import sqlite3\n",
    "import pandas as pd"
   ]
  },
  {
   "cell_type": "code",
   "execution_count": 2,
   "id": "7f0415d9",
   "metadata": {},
   "outputs": [],
   "source": [
    "mjd_start = 60676."
   ]
  },
  {
   "cell_type": "code",
   "execution_count": 3,
   "id": "c63d59d9",
   "metadata": {},
   "outputs": [],
   "source": [
    "mjd_start_time = Time(mjd_start, format=\"mjd\")\n",
    "cloud_data = CloudData(mjd_start_time, cloud_db='clouds.db', offset_year=0)"
   ]
  },
  {
   "cell_type": "code",
   "execution_count": 4,
   "id": "d3a49e3b",
   "metadata": {},
   "outputs": [],
   "source": [
    "con = sqlite3.connect('weather_cloudso0v3.1_10yrs.db')\n",
    "data = pd.read_sql('select observationstartmjd,cloud from observations;', con)\n",
    "con.close()"
   ]
  },
  {
   "cell_type": "code",
   "execution_count": 5,
   "id": "ce788333",
   "metadata": {},
   "outputs": [],
   "source": [
    "times = Time(data['observationStartMJD'], format='mjd')"
   ]
  },
  {
   "cell_type": "code",
   "execution_count": 6,
   "id": "68f4dfbc",
   "metadata": {},
   "outputs": [
    {
     "name": "stderr",
     "output_type": "stream",
     "text": [
      "/Users/yoachim/anaconda3/envs/rubin/lib/python3.11/site-packages/erfa/core.py:154: ErfaWarning: ERFA function \"utctai\" yielded 1655449 of \"dubious year (Note 3)\"\n",
      "  warnings.warn('ERFA function \"{}\" yielded {}'.format(func_name, wmsg),\n"
     ]
    }
   ],
   "source": [
    "clouds = cloud_data(times)"
   ]
  },
  {
   "cell_type": "code",
   "execution_count": 7,
   "id": "4cf688e0",
   "metadata": {},
   "outputs": [
    {
     "data": {
      "text/plain": [
       "True"
      ]
     },
     "execution_count": 7,
     "metadata": {},
     "output_type": "execute_result"
    }
   ],
   "source": [
    "np.all(clouds == data['cloud'].values)"
   ]
  },
  {
   "cell_type": "code",
   "execution_count": null,
   "id": "89f9f817",
   "metadata": {},
   "outputs": [],
   "source": []
  }
 ],
 "metadata": {
  "kernelspec": {
   "display_name": "Python 3 (ipykernel)",
   "language": "python",
   "name": "python3"
  },
  "language_info": {
   "codemirror_mode": {
    "name": "ipython",
    "version": 3
   },
   "file_extension": ".py",
   "mimetype": "text/x-python",
   "name": "python",
   "nbconvert_exporter": "python",
   "pygments_lexer": "ipython3",
   "version": "3.11.0"
  }
 },
 "nbformat": 4,
 "nbformat_minor": 5
}
